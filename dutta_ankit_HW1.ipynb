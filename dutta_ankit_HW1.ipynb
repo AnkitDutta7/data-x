{
 "cells": [
  {
   "cell_type": "markdown",
   "metadata": {},
   "source": [
    "# Data-X IEOR 290: HW 1\n",
    "### Ankit Dutta\n",
    "#### SID : 3032167048\n"
   ]
  },
  {
   "cell_type": "markdown",
   "metadata": {},
   "source": [
    "Problem 1"
   ]
  },
  {
   "cell_type": "code",
   "execution_count": 1,
   "metadata": {
    "collapsed": true
   },
   "outputs": [],
   "source": [
    "#creating empty list\n",
    "a=[]\n"
   ]
  },
  {
   "cell_type": "code",
   "execution_count": 2,
   "metadata": {
    "collapsed": false,
    "scrolled": true
   },
   "outputs": [
    {
     "name": "stdout",
     "output_type": "stream",
     "text": [
      "[2.0, 2.5, 3.0, 3.5, 4.0, 4.5, 5.0, 5.5, 6.0, 6.5, 7.0, 7.5, 8.0, 8.5, 9.0, 9.5, 10.0, 10.5, 11.0, 11.5, 12.0, 12.5, 13.0, 13.5, 14.0, 14.5, 15.0, 15.5, 16.0, 16.5, 17.0, 17.5, 18.0, 18.5, 19.0, 19.5, 20.0, 20.5, 21.0, 21.5, 22.0, 22.5, 23.0, 23.5, 24.0, 24.5, 25.0, 25.5, 26.0, 26.5, 27.0, 27.5, 28.0, 28.5, 29.0, 29.5, 30.0, 30.5, 31.0, 31.5, 32.0, 32.5, 33.0, 33.5, 34.0, 34.5, 35.0, 35.5, 36.0, 36.5, 37.0, 37.5, 38.0, 38.5, 39.0, 39.5, 40.0, 40.5, 41.0, 41.5, 42.0, 42.5, 43.0, 43.5, 44.0, 44.5, 45.0, 45.5, 46.0]\n"
     ]
    }
   ],
   "source": [
    "#filling the list between 2-46 with 0.5 increment\n",
    "a=[x*0.5 for x in range (4,93)]\n",
    "print(a)"
   ]
  },
  {
   "cell_type": "code",
   "execution_count": 3,
   "metadata": {
    "collapsed": false
   },
   "outputs": [
    {
     "name": "stdout",
     "output_type": "stream",
     "text": [
      "[4.0, 2.5, 3.0, 3.5, 8.0, 4.5, 5.0, 5.5, 12.0, 6.5, 7.0, 7.5, 16.0, 8.5, 9.0, 9.5, 20.0, 10.5, 11.0, 11.5, 24.0, 12.5, 13.0, 13.5, 28.0, 14.5, 15.0, 15.5, 32.0, 16.5, 17.0, 17.5, 36.0, 18.5, 19.0, 19.5, 40.0, 20.5, 21.0, 21.5, 44.0, 22.5, 23.0, 23.5, 48.0, 24.5, 25.0, 25.5, 52.0, 26.5, 27.0, 27.5, 56.0, 28.5, 29.0, 29.5, 60.0, 30.5, 31.0, 31.5, 64.0, 32.5, 33.0, 33.5, 68.0, 34.5, 35.0, 35.5, 72.0, 36.5, 37.0, 37.5, 76.0, 38.5, 39.0, 39.5, 80.0, 40.5, 41.0, 41.5, 84.0, 42.5, 43.0, 43.5, 88.0, 44.5, 45.0, 45.5, 92.0]\n"
     ]
    }
   ],
   "source": [
    "#Doubling every even number\n",
    "i=0\n",
    "for even in a:\n",
    "    if even%2==0:\n",
    "        a[i]=2*even\n",
    "    i+=1\n",
    "print(a)\n"
   ]
  },
  {
   "cell_type": "code",
   "execution_count": 4,
   "metadata": {
    "collapsed": false
   },
   "outputs": [
    {
     "data": {
      "text/plain": [
       "2643.5"
      ]
     },
     "execution_count": 4,
     "metadata": {},
     "output_type": "execute_result"
    }
   ],
   "source": [
    "#Sum of numbers except 32nd and 51st element\n",
    "sum(a)-a[31]-a[50]"
   ]
  },
  {
   "cell_type": "code",
   "execution_count": 5,
   "metadata": {
    "collapsed": false
   },
   "outputs": [
    {
     "data": {
      "text/plain": [
       "30.202247191011235"
      ]
     },
     "execution_count": 5,
     "metadata": {},
     "output_type": "execute_result"
    }
   ],
   "source": [
    "#Mean of the list\n",
    "sum(a)/len(a)"
   ]
  },
  {
   "cell_type": "code",
   "execution_count": 6,
   "metadata": {
    "collapsed": false
   },
   "outputs": [
    {
     "name": "stdout",
     "output_type": "stream",
     "text": [
      "[2.5, 3.5, 4.5, 5.5, 6.5, 7.5, 8.5, 9.5, 10.5, 11.5, 12.5, 13.5, 14.5, 15.5, 16.5, 17.5, 18.5, 19.5, 20.5, 21.5, 22.5, 23.5, 24.5, 25.5, 26.5, 27.5, 28.5, 29.5, 30.5, 31.5, 32.5, 33.5, 34.5, 35.5, 36.5, 37.5, 38.5, 39.5, 40.5, 41.5, 42.5, 43.5, 44.5, 45.5]\n"
     ]
    }
   ],
   "source": [
    "#Creating a list with halves.\n",
    "\n",
    "a_half=[]\n",
    "i=0\n",
    "for half in a:\n",
    "    if half%1 !=0:\n",
    "        a_half.append(half)\n",
    "        i+=1\n",
    "print(a_half)\n",
    "    "
   ]
  },
  {
   "cell_type": "code",
   "execution_count": 7,
   "metadata": {
    "collapsed": false
   },
   "outputs": [
    {
     "name": "stdout",
     "output_type": "stream",
     "text": [
      "[3.0, 4.0, 5.0, 7.0, 8.0, 9.0, 11.0, 12.0, 13.0, 15.0, 16.0, 17.0, 19.0, 20.0, 21.0, 23.0, 24.0, 25.0, 27.0, 28.0, 29.0, 31.0, 32.0, 33.0, 35.0, 36.0, 37.0, 39.0, 40.0, 41.0, 43.0, 44.0, 45.0, 48.0, 52.0, 56.0, 60.0, 64.0, 68.0, 72.0, 76.0, 80.0, 84.0, 88.0, 92.0, 2.5, 3.5, 4.5, 5.5, 6.5, 7.5, 8.5, 9.5, 10.5, 11.5, 12.5, 13.5, 14.5, 15.5, 16.5, 17.5, 18.5, 19.5, 20.5, 21.5, 22.5, 23.5, 24.5, 25.5, 26.5, 27.5, 28.5, 29.5, 30.5, 31.5, 32.5, 33.5, 34.5, 35.5, 36.5, 37.5, 38.5, 39.5, 40.5, 41.5, 42.5, 43.5, 44.5, 45.5]\n"
     ]
    }
   ],
   "source": [
    "#Sorting all integers before half\n",
    "integer=[]\n",
    "for full in a:\n",
    "    if full%1==0:\n",
    "        integer.append(full)\n",
    "        full+=1\n",
    "a=sorted(integer)+sorted(a_half)\n",
    "print(a)\n",
    "#a= [x for x in range(2,93)]+[x+0.5 for x in range(2,93)]\n",
    "#print(a)\n"
   ]
  },
  {
   "cell_type": "code",
   "execution_count": 8,
   "metadata": {
    "collapsed": false
   },
   "outputs": [
    {
     "name": "stdout",
     "output_type": "stream",
     "text": [
      "3.0\n",
      "7.0\n",
      "11.0\n",
      "15.0\n",
      "19.0\n",
      "23.0\n",
      "27.0\n",
      "31.0\n",
      "35.0\n",
      "39.0\n",
      "43.0\n",
      "48.0\n",
      "60.0\n",
      "72.0\n",
      "84.0\n",
      "2.5\n",
      "5.5\n",
      "8.5\n",
      "11.5\n",
      "14.5\n",
      "17.5\n",
      "20.5\n",
      "23.5\n",
      "26.5\n",
      "29.5\n",
      "32.5\n",
      "35.5\n",
      "38.5\n",
      "41.5\n",
      "44.5\n",
      "Sum of integers:15\n",
      "Sum of half number parts:15\n"
     ]
    }
   ],
   "source": [
    "#Finding the sum of integers and  half parts\n",
    "i=0\n",
    "integer=0\n",
    "half=0\n",
    "while i < len(a):\n",
    "    if a[i]%1 ==0:\n",
    "        integer += 1\n",
    "    else:\n",
    "        half += 1\n",
    "    print(a[i])\n",
    "    i+=3\n",
    "print('Sum of integers:' +str(integer))\n",
    "print('Sum of half number parts:'+str(half))\n"
   ]
  },
  {
   "cell_type": "markdown",
   "metadata": {},
   "source": [
    "Problem 2"
   ]
  },
  {
   "cell_type": "code",
   "execution_count": 9,
   "metadata": {
    "collapsed": false
   },
   "outputs": [
    {
     "name": "stdout",
     "output_type": "stream",
     "text": [
      "['I', 'am', 'so', 'excited', 'about', 'Data-X.', 'I', 'feel', 'it', 'is', 'important', 'to', 'be', 'able', 'to', 'work', 'with', 'data']\n"
     ]
    }
   ],
   "source": [
    "#Creating an empty list\n",
    "b=[]\n",
    "#storing word into list\n",
    "c=\"I am so excited about Data-X. I feel it is important to be able to work with data\"\n",
    "b=c.split()\n",
    "print(b)"
   ]
  },
  {
   "cell_type": "code",
   "execution_count": 10,
   "metadata": {
    "collapsed": false
   },
   "outputs": [
    {
     "name": "stdout",
     "output_type": "stream",
     "text": [
      "excited\n",
      "feel\n",
      "be\n",
      "able\n",
      "6\n"
     ]
    }
   ],
   "source": [
    "#Counting the occurences of leter 'e' in the list b\n",
    "\n",
    "i=0\n",
    "for letter in range (0,len(b)):\n",
    "    if \"e\" in b[letter]:\n",
    "        print(b[letter])\n",
    "        i+=b[letter].count(\"e\")\n",
    "print i\n",
    "\n",
    "#from collections import Counter\n",
    "#counter = Counter(c)\n",
    "#print (counter['e'])"
   ]
  },
  {
   "cell_type": "code",
   "execution_count": 11,
   "metadata": {
    "collapsed": false
   },
   "outputs": [
    {
     "name": "stdout",
     "output_type": "stream",
     "text": [
      "['1', 'am', 'so', 'exc1ted', 'about', 'Data-X.', '1', 'feel', '1t', '1s', '1mportant', 'to', 'be', 'able', 'to', 'work', 'w1th', 'data']\n"
     ]
    }
   ],
   "source": [
    "#Replacing i,I with 1\n",
    "\n",
    "for letter in range (0,len(b)):\n",
    "    b[letter]=b[letter].replace('I','1')    #Replacing capital i\n",
    "    b[letter]=b[letter].replace('i','1')    #Replacing small i\n",
    "print(b)"
   ]
  },
  {
   "cell_type": "code",
   "execution_count": 12,
   "metadata": {
    "collapsed": false
   },
   "outputs": [
    {
     "name": "stdout",
     "output_type": "stream",
     "text": [
      "['1', 'am', 'so', 'exc1ted', 'about', 'Data-X.', '1', 'feel', '1t', '1s', '1mportant', 'to', 'be', 'able', 'to', 'work', 'w1th', 'data', 'This', 'is', 'the', 'end', 'of', 'the', 'first', 'HW']\n"
     ]
    }
   ],
   "source": [
    "#Adding a string of words to the given list\n",
    "b.extend([\"This\", \"is\" ,\"the\", \"end\", \"of\", \"the\", \"first\", \"HW\"])\n",
    "print(b)\n",
    "\n",
    "#Alternatively:\n",
    "#c='This is the end of the first HW'\n",
    "##b.extend(c.split())"
   ]
  },
  {
   "cell_type": "code",
   "execution_count": 13,
   "metadata": {
    "collapsed": false
   },
   "outputs": [
    {
     "name": "stdout",
     "output_type": "stream",
     "text": [
      "WH tsrif eht fo dne eht si sihT atad ht1w krow ot elba eb ot tnatropm1 s1 t1 leef 1 .X-ataD tuoba det1cxe os ma 1\n"
     ]
    }
   ],
   "source": [
    "#Reversing the string and printing as a list.\n",
    "\n",
    "print(' '.join(b)[::-1])"
   ]
  }
 ],
 "metadata": {
  "anaconda-cloud": {},
  "kernelspec": {
   "display_name": "Python [conda root]",
   "language": "python",
   "name": "conda-root-py"
  },
  "language_info": {
   "codemirror_mode": {
    "name": "ipython",
    "version": 2
   },
   "file_extension": ".py",
   "mimetype": "text/x-python",
   "name": "python",
   "nbconvert_exporter": "python",
   "pygments_lexer": "ipython2",
   "version": "2.7.12"
  }
 },
 "nbformat": 4,
 "nbformat_minor": 1
}
