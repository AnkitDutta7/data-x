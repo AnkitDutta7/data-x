{
 "cells": [
  {
   "cell_type": "markdown",
   "metadata": {
    "deletable": true,
    "editable": true
   },
   "source": [
    "![data-x](http://oi64.tinypic.com/o858n4.jpg)\n",
    "\n",
    "\n",
    "# Homework 8: NLP & NLTK - sentiment analysis on movie reviews\n",
    "#### Using Natural Language Processing in Python\n",
    "\n",
    "Source: https://www.kaggle.com/c/word2vec-nlp-tutorial/data\n",
    "\n",
    "*Code snippets given run on both Python 2.7 and Python 3.5*\n"
   ]
  },
  {
   "cell_type": "markdown",
   "metadata": {
    "deletable": true,
    "editable": true
   },
   "source": [
    "## Topics covered:\n",
    "\n",
    "* Data exploration\n",
    "* Text preprocessing\n",
    "* Stemming\n",
    "* Part of Speech (POS) tagging\n",
    "* Lemmatizing\n",
    "* Stopwords (abundant words)\n",
    "* Bag of Words + Feature extraction\n",
    "* Sentiment prediction using Random Forest"
   ]
  },
  {
   "cell_type": "markdown",
   "metadata": {
    "deletable": true,
    "editable": true
   },
   "source": [
    "## Part 0: Pre-Setup"
   ]
  },
  {
   "cell_type": "code",
   "execution_count": 1,
   "metadata": {
    "collapsed": false,
    "deletable": true,
    "editable": true
   },
   "outputs": [],
   "source": [
    "# Remove warnings\n",
    "import warnings\n",
    "warnings.filterwarnings('ignore')\n",
    "\n",
    "import matplotlib.pyplot as plt\n",
    "%matplotlib inline\n",
    "\n",
    "from __future__ import print_function, division, absolute_import #make compatible with Python 2 and Python 3"
   ]
  },
  {
   "cell_type": "markdown",
   "metadata": {
    "deletable": true,
    "editable": true
   },
   "source": [
    "# Data description\n",
    "\n",
    "You can download the data (labeledTrainData.tsv.zip) here: https://www.kaggle.com/c/word2vec-nlp-tutorial/data, place it in your working directory & unzip the file.\n",
    "\n",
    "## Data set\n",
    "\n",
    "The labeled data set consists of 25,000 IMDB movie reviews. The sentiment of reviews is binary, meaning an IMDB rating < 5 results in a sentiment score of 0, and a rating >=7 have a sentiment score of 1 (no reviews with score 5 or 6 are included in the analysis). No individual movie has more than 30 reviews.\n",
    "\n",
    "## File description\n",
    "\n",
    "* **labeledTrainData** - The labeled training set. The file is tab-delimited and has a header row followed by 25,000 rows containing an id, sentiment, and text for each review. \n",
    "\n",
    "## Data columns\n",
    "* **id** - Unique ID of each review\n",
    "* **sentiment** - Sentiment of the review; 1 for positive reviews and 0 for negative reviews\n",
    "* **review** - Text of the review\n"
   ]
  },
  {
   "cell_type": "markdown",
   "metadata": {
    "deletable": true,
    "editable": true
   },
   "source": [
    "# Read in the data"
   ]
  },
  {
   "cell_type": "code",
   "execution_count": 2,
   "metadata": {
    "collapsed": false,
    "deletable": true,
    "editable": true
   },
   "outputs": [],
   "source": [
    "# Read in the data to a Pandas data frame\n",
    "# Use header = 0 (first line contains col names)\n",
    "# use delimiter=\\t (columns are separated by tabs),\n",
    "# use quoting=3 (Python will ignore doubled quotes)\n",
    "\n",
    "import pandas as pd       \n",
    "train = pd.read_csv(\"labeledTrainData.tsv\", header=0, \\\n",
    "                    delimiter=\"\\t\", quoting=3)\n",
    "# train.shape should be (25000,3)"
   ]
  },
  {
   "cell_type": "code",
   "execution_count": 3,
   "metadata": {
    "collapsed": false,
    "deletable": true,
    "editable": true
   },
   "outputs": [
    {
     "data": {
      "text/plain": [
       "(25000, 3)"
      ]
     },
     "execution_count": 3,
     "metadata": {},
     "output_type": "execute_result"
    }
   ],
   "source": [
    "train.shape\n"
   ]
  },
  {
   "cell_type": "markdown",
   "metadata": {
    "deletable": true,
    "editable": true
   },
   "source": [
    "## Q1.1:\n",
    "* 1: How many movie reviews are positive and how many are negative in labeledTrainData.tsv?\n",
    "\n",
    "\n",
    "* 2: What is the average length of all the reviews (string length)?"
   ]
  },
  {
   "cell_type": "code",
   "execution_count": 5,
   "metadata": {
    "collapsed": false,
    "deletable": true,
    "editable": true
   },
   "outputs": [
    {
     "name": "stdout",
     "output_type": "stream",
     "text": [
      " 12500 Positive reviews in the labeledTrainData.tsv \n",
      "\n",
      " 12500 Positive reviews in labeledTrainData.tsv \n",
      "\n",
      "Average length of reviews is 1329 \n",
      "\n"
     ]
    }
   ],
   "source": [
    "## Input answer ##\n",
    "\n",
    "\n",
    "print (\" %d Positive reviews in the labeledTrainData.tsv \\n\" % (len(train[(train['sentiment']>0)])))\n",
    "\n",
    "print (\" %d Positive reviews in labeledTrainData.tsv \\n\" % (len(train[(train['sentiment']==0)])))\n",
    "\n",
    "\n",
    "#2.\n",
    "\n",
    "Average_length = train.review.map(lambda x: len(x)).mean()\n",
    "\n",
    "print (\"Average length of reviews is %d \\n\" % (Average_length))"
   ]
  },
  {
   "cell_type": "markdown",
   "metadata": {
    "deletable": true,
    "editable": true
   },
   "source": [
    "## Q1:2 Explore NLP on one review\n",
    "\n",
    "In Q1:2 you should work on the third review, i.e. `train['review'][2]`\n",
    "\n",
    "First we would like to clean up the reviews. As you can see many interviews contain \\ characters in front of quotation symobols, \"`<br/>` tags, numbers, abbrevations etc.\n",
    "\n",
    "* 1: Remove all the HTML tags in the third review, by creating a beatifulsoup object and then using the `.text` method. Save results in variable `review3`\n",
    "\n",
    "\n",
    "* 2: Import NLTK's sent_tokenizer and count the number of sentences in review 3 (cleaned from HTML tags). To import sent_tokenizer use: `from nltk.tokenize import sent_tokenize`\n",
    "\n",
    "\n",
    "* 3: Remove all punctuation, numbers and special characters from the third review (cleaned from HTML tags). We can do this using Regular Expression - package `re`. Save the results in variable `review3`. Code given to you as we haven't covered this in class:\n",
    "\n",
    "        review3 = re.sub('[^a-zA-Z]',' ',review3)\n",
    "\n",
    "\n",
    "* 4: Convert all the letters to lower case (save in variable `review3`). Then split the string so that every word is one element in a list (save the list in variable `review3_words`). Note: When we split the strings into words that process is called tokenization.\n",
    "\n",
    "\n",
    "* 5: Use NLTK's PorterStemmer (`from nltk.stem import PorterStemmer`). Create a new Porter stemmer (`stemmer = PorterStemmer()`) and run it on every word in `review3_words`, print the results as one string (don't overwrite the `review3_words` variable from 4). What does the PorterStemmer do?\n",
    "\n",
    "\n",
    "* 6: Now we want to Part Of Speech (POS)) tag the third movie review. We will use POS labeling also called grammatical tagging. To do this import `from nltk.tag import pos_tag`. When you use pos_tag on a word it returns a token-tag pair in the form of a tuple. In NLTK's Penn Treebank POS, the abbreviation (tag) for an adjective is JJ and NN for singular nouns. Count the number of singular nouns (NN) and adjectives (JJ) in `review3_words` using NLTK's pos_tag_sents. A list of the Penn Treebank pos_tag's can be found here: http://www.ling.upenn.edu/courses/Fall_2003/ling001/penn_treebank_pos.html\n",
    "\n",
    "\n",
    "* 7: An even more sophisticated operation than stemming using the PorterStemmer is called lemmatizing. Lemmatizing, in contrast to stemming, does not create non-existent words and converts words to their synonyms. In order to use lemmatizing we need to define the wordnet POS tag. A function that takes in a POS Penn Treebank tag and converts it to a wordnet tag and then lemmatizes words in a string has been given to you below. Please extend this code and print the lemmatized third movie review. Don't save the results in any variable.\n",
    "\n",
    "\n",
    "* 8: Lastly we will try to remove common words that don't carry much information. These are called stopwords. In English they could for example be 'am', 'are', 'and' etc. To import NLTK's list of stopwords you need to download the stopword corpora (`import nltk` and then `nltk.download()` if you don't have it). When that is done run `from nltk.corpus import stopwords` and create a variable for English stopwords with `eng_stopwords = stopwords.words('english')`. Use the list of English stopwords to remove all the stopwords from your list of words in the third movie review, i.e. `review3_words`. Print `review3_words` without stopwords, count the number of stopwords removed and print them as well."
   ]
  },
  {
   "cell_type": "code",
   "execution_count": 13,
   "metadata": {
    "collapsed": true,
    "deletable": true,
    "editable": true
   },
   "outputs": [],
   "source": [
    "import bs4 as bs\n",
    "import nltk\n",
    "from nltk.tokenize import sent_tokenize\n",
    "import re\n",
    "from nltk.stem import PorterStemmer\n",
    "from nltk.tag import pos_tag\n",
    "from nltk.corpus import stopwords\n",
    "from nltk.corpus import wordnet\n",
    "from nltk.stem import WordNetLemmatizer\n",
    "from bs4 import BeautifulSoup             \n",
    "eng_stopwords = stopwords.words('english')\n",
    "from nltk.tokenize import sent_tokenize # Importing sent_tokenize\n"
   ]
  },
  {
   "cell_type": "code",
   "execution_count": 12,
   "metadata": {
    "collapsed": false,
    "deletable": true,
    "editable": true
   },
   "outputs": [
    {
     "name": "stdout",
     "output_type": "stream",
     "text": [
      "\"The film starts with a manager (Nicholas Bell) giving welcome investors (Robert Carradine) to Primal Park . A secret project mutating a primal animal using fossilized DNA, like ¨Jurassik Park¨, and some scientists resurrect one of nature's most fearsome predators, the Sabretooth tiger or Smilodon . Scientific ambition turns deadly, however, and when the high voltage fence is opened the creature escape and begins savagely stalking its prey - the human visitors , tourists and scientific.Meanwhile some youngsters enter in the restricted area of the security center and are attacked by a pack of large pre-historical animals which are deadlier and bigger . In addition , a security agent (Stacy Haiduk) and her mate (Brian Wimmer) fight hardly against the carnivorous Smilodons. The Sabretooths, themselves , of course, are the real star stars and they are astounding terrifyingly though not convincing. The giant animals savagely are stalking its prey and the group run afoul and fight against one nature's most fearsome predators. Furthermore a third Sabretooth more dangerous and slow stalks its victims.The movie delivers the goods with lots of blood and gore as beheading, hair-raising chills,full of scares when the Sabretooths appear with mediocre special effects.The story provides exciting and stirring entertainment but it results to be quite boring .The giant animals are majority made by computer generator and seem totally lousy .Middling performances though the players reacting appropriately to becoming food.Actors give vigorously physical performances dodging the beasts ,running,bound and leaps or dangling over walls . And it packs a ridiculous final deadly scene. No for small kids by realistic,gory and violent attack scenes . Other films about Sabretooths or Smilodon are the following : ¨Sabretooth(2002)¨by James R Hickox with Vanessa Angel, David Keith and John Rhys Davies and the much better ¨10.000 BC(2006)¨ by Roland Emmerich with with Steven Strait, Cliff Curtis and Camilla Belle. This motion picture filled with bloody moments is badly directed by George Miller and with no originality because takes too many elements from previous films. Miller is an Australian director usually working for television (Tidal wave, Journey to the center of the earth, and many others) and occasionally for cinema ( The man from Snowy river, Zeus and Roxanne,Robinson Crusoe ). Rating : Below average, bottom of barrel.\"\n"
     ]
    }
   ],
   "source": [
    "#1.\n",
    "review3 = train['review'][2] # the review used for analysis in Q1:2\n",
    "review3 = BeautifulSoup(review3).get_text()\n",
    "print (review3)"
   ]
  },
  {
   "cell_type": "code",
   "execution_count": 15,
   "metadata": {
    "collapsed": false,
    "deletable": true,
    "editable": true
   },
   "outputs": [
    {
     "name": "stdout",
     "output_type": "stream",
     "text": [
      "There are 13 sentences in the 3rd review \n",
      "\n"
     ]
    }
   ],
   "source": [
    "#2.\n",
    "Number_Sentences = len(sent_tokenize(review3))\n",
    "print (\"There are %d sentences in the 3rd review \\n\" % (Number_Sentences))"
   ]
  },
  {
   "cell_type": "code",
   "execution_count": 16,
   "metadata": {
    "collapsed": true,
    "deletable": true,
    "editable": true
   },
   "outputs": [],
   "source": [
    "#3.\n",
    "review3 = re.sub('[^a-zA-Z]',' ',review3)"
   ]
  },
  {
   "cell_type": "code",
   "execution_count": 17,
   "metadata": {
    "collapsed": false,
    "deletable": true,
    "editable": true
   },
   "outputs": [
    {
     "name": "stdout",
     "output_type": "stream",
     "text": [
      "['the', 'film', 'starts', 'with', 'a', 'manager', 'nicholas', 'bell', 'giving', 'welcome', 'investors', 'robert', 'carradine', 'to', 'primal', 'park', 'a', 'secret', 'project', 'mutating', 'a', 'primal', 'animal', 'using', 'fossilized', 'dna', 'like', 'jurassik', 'park', 'and', 'some', 'scientists', 'resurrect', 'one', 'of', 'nature', 's', 'most', 'fearsome', 'predators', 'the', 'sabretooth', 'tiger', 'or', 'smilodon', 'scientific', 'ambition', 'turns', 'deadly', 'however', 'and', 'when', 'the', 'high', 'voltage', 'fence', 'is', 'opened', 'the', 'creature', 'escape', 'and', 'begins', 'savagely', 'stalking', 'its', 'prey', 'the', 'human', 'visitors', 'tourists', 'and', 'scientific', 'meanwhile', 'some', 'youngsters', 'enter', 'in', 'the', 'restricted', 'area', 'of', 'the', 'security', 'center', 'and', 'are', 'attacked', 'by', 'a', 'pack', 'of', 'large', 'pre', 'historical', 'animals', 'which', 'are', 'deadlier', 'and', 'bigger', 'in', 'addition', 'a', 'security', 'agent', 'stacy', 'haiduk', 'and', 'her', 'mate', 'brian', 'wimmer', 'fight', 'hardly', 'against', 'the', 'carnivorous', 'smilodons', 'the', 'sabretooths', 'themselves', 'of', 'course', 'are', 'the', 'real', 'star', 'stars', 'and', 'they', 'are', 'astounding', 'terrifyingly', 'though', 'not', 'convincing', 'the', 'giant', 'animals', 'savagely', 'are', 'stalking', 'its', 'prey', 'and', 'the', 'group', 'run', 'afoul', 'and', 'fight', 'against', 'one', 'nature', 's', 'most', 'fearsome', 'predators', 'furthermore', 'a', 'third', 'sabretooth', 'more', 'dangerous', 'and', 'slow', 'stalks', 'its', 'victims', 'the', 'movie', 'delivers', 'the', 'goods', 'with', 'lots', 'of', 'blood', 'and', 'gore', 'as', 'beheading', 'hair', 'raising', 'chills', 'full', 'of', 'scares', 'when', 'the', 'sabretooths', 'appear', 'with', 'mediocre', 'special', 'effects', 'the', 'story', 'provides', 'exciting', 'and', 'stirring', 'entertainment', 'but', 'it', 'results', 'to', 'be', 'quite', 'boring', 'the', 'giant', 'animals', 'are', 'majority', 'made', 'by', 'computer', 'generator', 'and', 'seem', 'totally', 'lousy', 'middling', 'performances', 'though', 'the', 'players', 'reacting', 'appropriately', 'to', 'becoming', 'food', 'actors', 'give', 'vigorously', 'physical', 'performances', 'dodging', 'the', 'beasts', 'running', 'bound', 'and', 'leaps', 'or', 'dangling', 'over', 'walls', 'and', 'it', 'packs', 'a', 'ridiculous', 'final', 'deadly', 'scene', 'no', 'for', 'small', 'kids', 'by', 'realistic', 'gory', 'and', 'violent', 'attack', 'scenes', 'other', 'films', 'about', 'sabretooths', 'or', 'smilodon', 'are', 'the', 'following', 'sabretooth', 'by', 'james', 'r', 'hickox', 'with', 'vanessa', 'angel', 'david', 'keith', 'and', 'john', 'rhys', 'davies', 'and', 'the', 'much', 'better', 'bc', 'by', 'roland', 'emmerich', 'with', 'with', 'steven', 'strait', 'cliff', 'curtis', 'and', 'camilla', 'belle', 'this', 'motion', 'picture', 'filled', 'with', 'bloody', 'moments', 'is', 'badly', 'directed', 'by', 'george', 'miller', 'and', 'with', 'no', 'originality', 'because', 'takes', 'too', 'many', 'elements', 'from', 'previous', 'films', 'miller', 'is', 'an', 'australian', 'director', 'usually', 'working', 'for', 'television', 'tidal', 'wave', 'journey', 'to', 'the', 'center', 'of', 'the', 'earth', 'and', 'many', 'others', 'and', 'occasionally', 'for', 'cinema', 'the', 'man', 'from', 'snowy', 'river', 'zeus', 'and', 'roxanne', 'robinson', 'crusoe', 'rating', 'below', 'average', 'bottom', 'of', 'barrel']\n"
     ]
    }
   ],
   "source": [
    "#4.\n",
    "review3 = review3.lower() # Converting to lower case\n",
    "review3words = review3.split() # Creating a list of words, from the string review3\n",
    "print (review3words)"
   ]
  },
  {
   "cell_type": "code",
   "execution_count": 19,
   "metadata": {
    "collapsed": false,
    "deletable": true,
    "editable": true
   },
   "outputs": [
    {
     "name": "stdout",
     "output_type": "stream",
     "text": [
      "the film start with a manag nichola bell give welcom investor robert carradin to primal park a secret project mutat a primal anim use fossil dna like jurassik park and some scientist resurrect one of natur s most fearsom predat the sabretooth tiger or smilodon scientif ambit turn deadli howev and when the high voltag fenc is open the creatur escap and begin savag stalk it prey the human visitor tourist and scientif meanwhil some youngster enter in the restrict area of the secur center and are attack by a pack of larg pre histor anim which are deadlier and bigger in addit a secur agent staci haiduk and her mate brian wimmer fight hardli against the carnivor smilodon the sabretooth themselv of cours are the real star star and they are astound terrifyingli though not convinc the giant anim savag are stalk it prey and the group run afoul and fight against one natur s most fearsom predat furthermor a third sabretooth more danger and slow stalk it victim the movi deliv the good with lot of blood and gore as behead hair rais chill full of scare when the sabretooth appear with mediocr special effect the stori provid excit and stir entertain but it result to be quit bore the giant anim are major made by comput gener and seem total lousi middl perform though the player react appropri to becom food actor give vigor physic perform dodg the beast run bound and leap or dangl over wall and it pack a ridicul final deadli scene no for small kid by realist gori and violent attack scene other film about sabretooth or smilodon are the follow sabretooth by jame r hickox with vanessa angel david keith and john rhi davi and the much better bc by roland emmerich with with steven strait cliff curti and camilla bell thi motion pictur fill with bloodi moment is badli direct by georg miller and with no origin becaus take too mani element from previou film miller is an australian director usual work for televis tidal wave journey to the center of the earth and mani other and occasion for cinema the man from snowi river zeu and roxann robinson cruso rate below averag bottom of barrel\n"
     ]
    },
    {
     "data": {
      "text/plain": [
       "'\\nWe thus see that the Porter stemmer applies several stemming methods, for instance: \\n- It converts plural words to their singular form\\n- It changes the \\'ing\\' form of verbs to their \\'root\\' form\\n- It changes the \\'-er\\' form of nouns to their root form\\n\\nAfter applying the Porter stemmer, all the nouns in a same \"family\" are converted to the same word.\\n'"
      ]
     },
     "execution_count": 19,
     "metadata": {},
     "output_type": "execute_result"
    }
   ],
   "source": [
    "#5.\n",
    "from nltk.stem import PorterStemmer\n",
    "stemmer = PorterStemmer()\n",
    "stemmedwords = [stemmer.stem(word) for word in review3words]\n",
    "# Printing the results as one string:\n",
    "print (\" \".join(stemmedwords))\n",
    "\n",
    "'''\n",
    "We thus see that the Porter stemmer applies several stemming methods, for instance: \n",
    "- It converts plural words to their singular form\n",
    "- It changes the 'ing' form of verbs to their 'root' form\n",
    "- It changes the '-er' form of nouns to their root form\n",
    "\n",
    "After applying the Porter stemmer, all the nouns in a same \"family\" are converted to the same word.\n",
    "'''"
   ]
  },
  {
   "cell_type": "code",
   "execution_count": 20,
   "metadata": {
    "collapsed": false,
    "deletable": true,
    "editable": true
   },
   "outputs": [
    {
     "name": "stdout",
     "output_type": "stream",
     "text": [
      "There are 86 singular nouns in review3 \n",
      "\n",
      "There are 47 adjectives in review3 \n",
      "\n"
     ]
    }
   ],
   "source": [
    "#6.\n",
    "from nltk.tag import pos_tag\n",
    "List_tags = pos_tag(review3words)\n",
    "\n",
    "Number_Singular_Nouns = len([word for word in List_tags if word[1] == 'NN'])\n",
    "Number_Adjectives = len([word for word in List_tags if word[1] == 'JJ'])\n",
    "\n",
    "print (\"There are %d singular nouns in review3 \\n\" % (Number_Singular_Nouns))\n",
    "print (\"There are %d adjectives in review3 \\n\" % (Number_Adjectives))"
   ]
  },
  {
   "cell_type": "code",
   "execution_count": 23,
   "metadata": {
    "collapsed": false,
    "deletable": true,
    "editable": true
   },
   "outputs": [
    {
     "name": "stdout",
     "output_type": "stream",
     "text": [
      "P. STEMMER: gone fish earlier than suppos to. hi shirt were damag\n",
      "\n",
      "LEMMATIZER: go fish early than suppose to. his shirt be damage\n",
      "\n",
      "LEMMATIZER on review 3: the film start with a manager nicholas bell give welcome investor robert carradine to primal park a secret project mutate a primal animal use fossilized dna like jurassik park and some scientist resurrect one of nature s most fearsome predator the sabretooth tiger or smilodon scientific ambition turn deadly however and when the high voltage fence be open the creature escape and begin savagely stalk it prey the human visitor tourist and scientific meanwhile some youngster enter in the restricted area of the security center and be attack by a pack of large pre historical animal which be deadlier and big in addition a security agent stacy haiduk and her mate brian wimmer fight hardly against the carnivorous smilodons the sabretooths themselves of course be the real star star and they be astound terrifyingly though not convince the giant animal savagely be stalk it prey and the group run afoul and fight against one nature s most fearsome predator furthermore a third sabretooth more dangerous and slow stalk it victim the movie deliver the good with lot of blood and gore a behead hair raise chill full of scare when the sabretooths appear with mediocre special effect the story provide exciting and stirring entertainment but it result to be quite bore the giant animal be majority make by computer generator and seem totally lousy middle performance though the player react appropriately to become food actor give vigorously physical performance dodge the beast run bound and leap or dangle over wall and it pack a ridiculous final deadly scene no for small kid by realistic gory and violent attack scenes other film about sabretooths or smilodon be the follow sabretooth by james r hickox with vanessa angel david keith and john rhys davy and the much good bc by roland emmerich with with steven strait cliff curtis and camilla belle this motion picture fill with bloody moment be badly direct by george miller and with no originality because take too many element from previous film miller be an australian director usually work for television tidal wave journey to the center of the earth and many others and occasionally for cinema the man from snowy river zeus and roxanne robinson crusoe rating below average bottom of barrel\n"
     ]
    }
   ],
   "source": [
    "## 7. Example code for lemmatizing, extend it to work on the third movie review ##\n",
    "\n",
    "\n",
    "\n",
    "example_sentence = 'gone fishing earlier than supposed to. his shirts were damaged'\n",
    "\n",
    "# compare to porter stemmer (base case)\n",
    "ps = PorterStemmer()\n",
    "print('P. STEMMER:',' '.join([ps.stem(w) for w in example_sentence.split()]))\n",
    "\n",
    "# Lemmatizing\n",
    "wnl = WordNetLemmatizer()\n",
    "\n",
    "def get_wordnet_pos(treebank_tag):\n",
    "    '''Treebank to wordnet POS tag'''\n",
    "    if treebank_tag.startswith('J'):\n",
    "        return wordnet.ADJ\n",
    "    elif treebank_tag.startswith('V'):\n",
    "        return wordnet.VERB\n",
    "    elif treebank_tag.startswith('N'):\n",
    "        return wordnet.NOUN\n",
    "    elif treebank_tag.startswith('R'):\n",
    "        return wordnet.ADV\n",
    "    else:\n",
    "        return 'n' #basecase POS\n",
    "    \n",
    "token_tag = pos_tag(example_sentence.split())\n",
    "\n",
    "print('\\nLEMMATIZER:',' '.join([wnl.lemmatize(w,pos=get_wordnet_pos(t)) for w,t in token_tag]))\n",
    "\n",
    "token_tag_review3 = pos_tag(review3words)\n",
    "\n",
    "# Below we use the lemmatizer on review 3:\n",
    "\n",
    "print('\\nLEMMATIZER on review 3:',' '.join([wnl.lemmatize(w,pos=get_wordnet_pos(t)) for w,t in token_tag_review3]))\n",
    "\n"
   ]
  },
  {
   "cell_type": "code",
   "execution_count": 25,
   "metadata": {
    "collapsed": false,
    "deletable": true,
    "editable": true
   },
   "outputs": [
    {
     "name": "stdout",
     "output_type": "stream",
     "text": [
      "['film', 'starts', 'manager', 'nicholas', 'bell', 'giving', 'welcome', 'investors', 'robert', 'carradine', 'primal', 'park', 'secret', 'project', 'mutating', 'primal', 'animal', 'using', 'fossilized', 'dna', 'like', 'jurassik', 'park', 'scientists', 'resurrect', 'one', 'nature', 'fearsome', 'predators', 'sabretooth', 'tiger', 'smilodon', 'scientific', 'ambition', 'turns', 'deadly', 'however', 'high', 'voltage', 'fence', 'opened', 'creature', 'escape', 'begins', 'savagely', 'stalking', 'prey', 'human', 'visitors', 'tourists', 'scientific', 'meanwhile', 'youngsters', 'enter', 'restricted', 'area', 'security', 'center', 'attacked', 'pack', 'large', 'pre', 'historical', 'animals', 'deadlier', 'bigger', 'addition', 'security', 'agent', 'stacy', 'haiduk', 'mate', 'brian', 'wimmer', 'fight', 'hardly', 'carnivorous', 'smilodons', 'sabretooths', 'course', 'real', 'star', 'stars', 'astounding', 'terrifyingly', 'though', 'convincing', 'giant', 'animals', 'savagely', 'stalking', 'prey', 'group', 'run', 'afoul', 'fight', 'one', 'nature', 'fearsome', 'predators', 'furthermore', 'third', 'sabretooth', 'dangerous', 'slow', 'stalks', 'victims', 'movie', 'delivers', 'goods', 'lots', 'blood', 'gore', 'beheading', 'hair', 'raising', 'chills', 'full', 'scares', 'sabretooths', 'appear', 'mediocre', 'special', 'effects', 'story', 'provides', 'exciting', 'stirring', 'entertainment', 'results', 'quite', 'boring', 'giant', 'animals', 'majority', 'made', 'computer', 'generator', 'seem', 'totally', 'lousy', 'middling', 'performances', 'though', 'players', 'reacting', 'appropriately', 'becoming', 'food', 'actors', 'give', 'vigorously', 'physical', 'performances', 'dodging', 'beasts', 'running', 'bound', 'leaps', 'dangling', 'walls', 'packs', 'ridiculous', 'final', 'deadly', 'scene', 'small', 'kids', 'realistic', 'gory', 'violent', 'attack', 'scenes', 'films', 'sabretooths', 'smilodon', 'following', 'sabretooth', 'james', 'r', 'hickox', 'vanessa', 'angel', 'david', 'keith', 'john', 'rhys', 'davies', 'much', 'better', 'bc', 'roland', 'emmerich', 'steven', 'strait', 'cliff', 'curtis', 'camilla', 'belle', 'motion', 'picture', 'filled', 'bloody', 'moments', 'badly', 'directed', 'george', 'miller', 'originality', 'takes', 'many', 'elements', 'previous', 'films', 'miller', 'australian', 'director', 'usually', 'working', 'television', 'tidal', 'wave', 'journey', 'center', 'earth', 'many', 'others', 'occasionally', 'cinema', 'man', 'snowy', 'river', 'zeus', 'roxanne', 'robinson', 'crusoe', 'rating', 'average', 'bottom', 'barrel']\n",
      "Stopwords in review3 is 135 \n",
      "\n",
      "['the', 'with', 'a', 'to', 'a', 'a', 'and', 'some', 'of', 's', 'most', 'the', 'or', 'and', 'when', 'the', 'is', 'the', 'and', 'its', 'the', 'and', 'some', 'in', 'the', 'of', 'the', 'and', 'are', 'by', 'a', 'of', 'which', 'are', 'and', 'in', 'a', 'and', 'her', 'against', 'the', 'the', 'themselves', 'of', 'are', 'the', 'and', 'they', 'are', 'not', 'the', 'are', 'its', 'and', 'the', 'and', 'against', 's', 'most', 'a', 'more', 'and', 'its', 'the', 'the', 'with', 'of', 'and', 'as', 'of', 'when', 'the', 'with', 'the', 'and', 'but', 'it', 'to', 'be', 'the', 'are', 'by', 'and', 'the', 'to', 'the', 'and', 'or', 'over', 'and', 'it', 'a', 'no', 'for', 'by', 'and', 'other', 'about', 'or', 'are', 'the', 'by', 'with', 'and', 'and', 'the', 'by', 'with', 'with', 'and', 'this', 'with', 'is', 'by', 'and', 'with', 'no', 'because', 'too', 'from', 'is', 'an', 'for', 'to', 'the', 'of', 'the', 'and', 'and', 'for', 'the', 'from', 'and', 'below', 'of']\n"
     ]
    }
   ],
   "source": [
    "#8.\n",
    "stops = set(stopwords.words(\"english\")) # Defining the set of stop words \n",
    "review3_without_stopwords = [w for w in review3words if not w in stops] # Removing them from our initial list of words\n",
    "print (review3_without_stopwords) # priting the updated list, after removal of the stop words\n",
    "\n",
    "Number_stopwords = len([w for w in review3words if w in stops])\n",
    "\n",
    "print (\"Stopwords in review3 is %d \\n\" % (Number_stopwords))\n",
    "\n",
    "print ([w for w in review3words if w in stops])\n",
    "\n",
    "review3 = review3_without_stopwords"
   ]
  },
  {
   "cell_type": "markdown",
   "metadata": {
    "deletable": true,
    "editable": true
   },
   "source": [
    "# Q1:3\n",
    "\n",
    "* 1: Create a function called `review_cleaner` that reads in a review and\n",
    "    - Removes HTML tags (using beautifulsoup)\n",
    "    - Removes non-letters (using regular expression)\n",
    "    - Converts all words to lowercase letters and tokenizes them (using .split() method on the review strings, so that every word in the review is an element in a list)\n",
    "    - Removes all the English stopwords from the list of movie review words\n",
    "    - Joins the words back into one string seperated by space\n",
    "\n",
    "**NOTE: Transform the list of stopwords to a set before removing the stopwords. I.e. assign `eng_stopwords = set(stopwords.words(\"english\"))`. Use the set to look up stopwords. This will speed up the computations A LOT (Python is much quicker when searching a set than a list).**\n",
    "    \n",
    "    \n",
    "* 2: Create three lists: \n",
    "    - `review_clean_original`, `review_clean_ps` and `review_clean_wnl`. Where `review_clean_original` contains all the reviews from the train DataFrame, that have been cleaned by the function `review_cleaner` defined in 1.\n",
    "    - `review_clean_ps` applies the PorterStemmer to the reviews in `review_clean_original`. **Note:** NLTK version 3.2.2 crashes when trying to use the PorterStemming on the string 'oed' (known bug). Therefore, use an if statement to skip just that specific string/word.\n",
    "    - `review_clean_wnl` contains words that have been lemmatized using NLTK's WordNetLemmatizer on the words in the list `review_clean_original`.\n",
    "    \n",
    "**Note, problem 2: can take more than 10minutes to run on a laptop**"
   ]
  },
  {
   "cell_type": "code",
   "execution_count": 26,
   "metadata": {
    "collapsed": false,
    "deletable": true,
    "editable": true
   },
   "outputs": [],
   "source": [
    "## Part 1\n",
    "\n",
    "def review_cleaner(review):\n",
    "    ## EXTEND THIS FUNCTION SO THAT IT COMPLETES THE FOLLOWING STEPS: ##\n",
    "    '''\n",
    "    Clean and preprocess a review.\n",
    "    \n",
    "    1. Remove HTML tags\n",
    "    2. Use regex to remove all special characters (only keep letters)\n",
    "    3. Make strings to lower case and tokenize / word split reviews\n",
    "    4. Remove English stopwords\n",
    "    5. Rejoin to one string\n",
    "    '''\n",
    "    \n",
    "    #1. Remove HTML tags:\n",
    "    review = BeautifulSoup(review).get_text() \n",
    "    \n",
    "    #2. Removing all special characters:\n",
    "    review = re.sub(\"[^a-zA-Z]\", \" \", review)\n",
    "    \n",
    "    #3. Converting to lower case and tokenize/ word split:\n",
    "    review = review.lower().split()     \n",
    "    \n",
    "    #4. CHECK FOR STOPWORDS IN: eng_stopwords\n",
    "    eng_stopwords = set(stopwords.words(\"english\"))\n",
    "    review_list = [w for w in review if not w in eng_stopwords]\n",
    "    \n",
    "    #5. \n",
    "    return( \" \".join(review_list))   \n"
   ]
  },
  {
   "cell_type": "code",
   "execution_count": 27,
   "metadata": {
    "collapsed": false,
    "deletable": true,
    "editable": true
   },
   "outputs": [
    {
     "name": "stdout",
     "output_type": "stream",
     "text": [
      "Done with 500 reviews for review_clean_original\n",
      "Done with 1000 reviews for review_clean_original\n",
      "Done with 1500 reviews for review_clean_original\n",
      "Done with 2000 reviews for review_clean_original\n",
      "Done with 2500 reviews for review_clean_original\n",
      "Done with 3000 reviews for review_clean_original\n",
      "Done with 3500 reviews for review_clean_original\n",
      "Done with 4000 reviews for review_clean_original\n",
      "Done with 4500 reviews for review_clean_original\n",
      "Done with 5000 reviews for review_clean_original\n",
      "Done with 5500 reviews for review_clean_original\n",
      "Done with 6000 reviews for review_clean_original\n",
      "Done with 6500 reviews for review_clean_original\n",
      "Done with 7000 reviews for review_clean_original\n",
      "Done with 7500 reviews for review_clean_original\n",
      "Done with 8000 reviews for review_clean_original\n",
      "Done with 8500 reviews for review_clean_original\n",
      "Done with 9000 reviews for review_clean_original\n",
      "Done with 9500 reviews for review_clean_original\n",
      "Done with 10000 reviews for review_clean_original\n",
      "Done with 10500 reviews for review_clean_original\n",
      "Done with 11000 reviews for review_clean_original\n",
      "Done with 11500 reviews for review_clean_original\n",
      "Done with 12000 reviews for review_clean_original\n",
      "Done with 12500 reviews for review_clean_original\n",
      "Done with 13000 reviews for review_clean_original\n",
      "Done with 13500 reviews for review_clean_original\n",
      "Done with 14000 reviews for review_clean_original\n",
      "Done with 14500 reviews for review_clean_original\n",
      "Done with 15000 reviews for review_clean_original\n",
      "Done with 15500 reviews for review_clean_original\n",
      "Done with 16000 reviews for review_clean_original\n",
      "Done with 16500 reviews for review_clean_original\n",
      "Done with 17000 reviews for review_clean_original\n",
      "Done with 17500 reviews for review_clean_original\n",
      "Done with 18000 reviews for review_clean_original\n",
      "Done with 18500 reviews for review_clean_original\n",
      "Done with 19000 reviews for review_clean_original\n",
      "Done with 19500 reviews for review_clean_original\n",
      "Done with 20000 reviews for review_clean_original\n",
      "Done with 20500 reviews for review_clean_original\n",
      "Done with 21000 reviews for review_clean_original\n",
      "Done with 21500 reviews for review_clean_original\n",
      "Done with 22000 reviews for review_clean_original\n",
      "Done with 22500 reviews for review_clean_original\n",
      "Done with 23000 reviews for review_clean_original\n",
      "Done with 23500 reviews for review_clean_original\n",
      "Done with 24000 reviews for review_clean_original\n",
      "Done with 24500 reviews for review_clean_original\n",
      "Done with 25000 reviews for review_clean_original\n"
     ]
    }
   ],
   "source": [
    "## Part 2\n",
    "\n",
    "\n",
    "## Step 1: Clean up all the original reviews\n",
    "num_reviews = len(train['review'])\n",
    "\n",
    "review_clean_original = []\n",
    "\n",
    "for i in range(0,num_reviews):\n",
    "    if( (i+1)%500 == 0 ):\n",
    "        # print progress\n",
    "        print(\"Done with %d reviews for review_clean_original\" %(i+1))\n",
    "    review_clean_original.append(review_cleaner(train['review'][i]))\n",
    "    \n"
   ]
  },
  {
   "cell_type": "code",
   "execution_count": 28,
   "metadata": {
    "collapsed": false
   },
   "outputs": [
    {
     "name": "stdout",
     "output_type": "stream",
     "text": [
      "classic war world timothi hine entertain film obvious goe great effort length faith recreat h g well classic book mr hine succe watch film appreci fact standard predict hollywood fare come everi year e g spielberg version tom cruis slightest resembl book obvious everyon look differ thing movi envis amateur critic look critic everyth other rate movi import base like entertain peopl never agre critic enjoy effort mr hine put faith h g well classic novel found entertain made easi overlook critic perceiv shortcom\n"
     ]
    }
   ],
   "source": [
    "### Step2: Use review_clean_original to create review_clean_ps using PorterStemmer\n",
    "ps = PorterStemmer()\n",
    "bug_word = ['oed'] # This will be used in the 'if' statement, in order to avoid the bug\n",
    "\n",
    "review_clean_ps = []\n",
    "for i in range(0,num_reviews):\n",
    "    review_clean_ps.append(' '.join([ps.stem(w) for w in review_clean_original[i].split() if not w in bug_word])) # Creation of a list of lists\n",
    "\n",
    "# We print an exemple below, to check the result of our stemmer:\n",
    "print (review_clean_ps[1])"
   ]
  },
  {
   "cell_type": "code",
   "execution_count": 29,
   "metadata": {
    "collapsed": false
   },
   "outputs": [
    {
     "name": "stdout",
     "output_type": "stream",
     "text": [
      "classic war world timothy hines entertain film obviously go great effort length faithfully recreate h g well classic book mr hines succeed watched film appreciate fact standard predictable hollywood fare come every year e g spielberg version tom cruise slight resemblance book obviously everyone look different thing movie envision amateur critic look criticize everything others rate movie important base like entertain people never agree critic enjoy effort mr hines put faithful h g well classic novel find entertain make easy overlook critic perceive shortcoming\n"
     ]
    }
   ],
   "source": [
    "### Step3: Use review_clean_original to create review_clean_wnl using the WordNetLemmatizer\n",
    "\n",
    "num_reviews = len(train['review'])\n",
    "\n",
    "review_clean_wnl = []\n",
    "\n",
    "for i in range(0,num_reviews):\n",
    "    token_tag = pos_tag(review_clean_original[i].split())\n",
    "    review_clean_wnl.append(' '.join([wnl.lemmatize(w,pos=get_wordnet_pos(t)) for w,t in token_tag]))\n",
    "    \n",
    "# We print an example below:\n",
    "print (review_clean_wnl[1])"
   ]
  },
  {
   "cell_type": "markdown",
   "metadata": {
    "deletable": true,
    "editable": true
   },
   "source": [
    "# Q1:4: Feature vectors and Bag of Words model\n",
    "\n",
    "### Explanation\n",
    "\n",
    "Derived from source: https://www.kaggle.com/c/word2vec-nlp-tutorial/details/part-1-for-beginners-bag-of-words\n",
    "\n",
    "We will now use scikit-learn to create numeric representations of the words in the reviews, using a method called Bag of Words. You can see this as learning a vocabulary from all the reviews and counting how many times a word appears in the reviews. For example, if we have two sentences:\n",
    "\n",
    "**Sentence 1:** \"cool students study cool data science\"\n",
    "\n",
    "**Sentence 2:** \"to know data science study data science\"\n",
    "\n",
    "The vocabulary of these two sentences can be summarized in a dictionary:\n",
    "\n",
    "{ cool, students, study, data, science, to, know }\n",
    "\n",
    "The bags of words count the number of times each word occur in a sentence. In Sentence 1, \"cool\" appears twice, and \"students\", \"study\", \"data\", and \"science\" appear once. The feature vector for Sentence 1 is:\n",
    "\n",
    "Sentence 1: { 2, 1, 1, 1, 1, 0, 0 }\n",
    "\n",
    "And for Sentence 2: { 0, 0, 1, 2, 2, 1, 1}\n",
    "\n",
    "### Applying this strategy to the IMDB movie reviews\n",
    "\n",
    "The movie review data contains a lot of words. To limit the analysis we use the 5000 most frequent words from the cleaned reviews. To extract the bag of words features we will use scitkit-learn.\n",
    "\n",
    "The training data will be created by the `CountVectorizer` function from scikit-learn, and the training array will have 25000 rows (one for each review) and 5000 features (one for each vocabulary word).\n",
    "\n",
    "CountVectorizer can automatically handle text cleaning, but here we specify \"None\", instead we did a step-by-step cleaning of the data in the earlier problems.\n",
    "\n",
    "#### Random Forest for review sentiment classification\n",
    "\n",
    "First split up the data set so that 80% are used as training samples (the first 20000 reviews and their sentiment) and 20% are used as validation samples (the last 5000 reviews and their sentiment). Use Random Forest to do numeric training on the features for the training samples from the Bag of Words and their respective sentiment labels for each review / feature vector. The number of trees is set to 50 as a default value.\n",
    "\n",
    "## Problem\n",
    "\n",
    "* 1: Run this analysis for the three cleaned review lists, i.e. `review_clean_original`, `review_clean_ps` and `review_clean_wnl`, by using the code below. Extend the function to print the **validation accuracy** by using `forest.predict(train_data_features[20000:,:])` and then comparing the resulting sentiment predictions with the ones stored in `train[\"sentiment\"][20000:]`. **Note:** The printed validation accuracy should show the percentage of correctly predicted sentiments for the validation set.\n",
    "\n",
    "\n",
    "* 2: Print the validation accuracy obtained for the three models. **Note:** Takes about 4mins to run.\n",
    "\n",
    "\n",
    "* 3: What data preprocessing strategy worked the best? Why do you think that is? (Feel free to change the number of features extracted in the bag of words model and the number of trees in the random forest model, to see how it effects your accuracy)."
   ]
  },
  {
   "cell_type": "code",
   "execution_count": 30,
   "metadata": {
    "collapsed": true,
    "deletable": true,
    "editable": true
   },
   "outputs": [],
   "source": [
    "#%%time # times the operation\n",
    "from sklearn.metrics import accuracy_score\n",
    "from sklearn.feature_extraction.text import CountVectorizer\n",
    "from sklearn.ensemble import RandomForestClassifier\n",
    "import numpy as np\n",
    "\n",
    "def predict_sentiment(X,y=train[\"sentiment\"]):\n",
    "    \n",
    "    print(\"Creating the bag of words model!\\n\")\n",
    "    # CountVectorizer\" is scikit-learn's bag of words tool.\n",
    "    vectorizer = CountVectorizer(analyzer = \"word\",   \\\n",
    "                                 tokenizer = None,    \\\n",
    "                                 preprocessor = None, \\\n",
    "                                 stop_words = None,   \\\n",
    "                                 max_features = 5000) \n",
    "\n",
    "    # Then we use fit_transform() to fit the model / learn the vocabulary,\n",
    "    # then transform the data into feature vectors.\n",
    "    # The input should be a list of strings. .toarray() converts to a numpy array\n",
    "    train_data_features = vectorizer.fit_transform(X).toarray()\n",
    "\n",
    "    # You can extract the vocabulary created by CountVectorizer\n",
    "    # by running print(vectorizer.get_feature_names())\n",
    "\n",
    "    print(\"Training the random forest classifier!\\n\")\n",
    "    # Initialize a Random Forest classifier with 50 trees\n",
    "    forest = RandomForestClassifier(n_estimators = 50)\n",
    "\n",
    "    # Fit the forest to the training set, using the bag of words as \n",
    "    # features and the sentiment labels as the target variable\n",
    "    forest = forest.fit(train_data_features[0:20000,:], y[0:20000]) # Training on the first 20,000 rows.\n",
    "    \n",
    "    ypred = forest.predict(train_data_features[20000:,:]) # preditions on the validations dataset\n",
    "    \n",
    "    yval = train[\"sentiment\"][20000:]\n",
    "    \n",
    "    accuracy = 0\n",
    "    for i in range(5000):\n",
    "        if yval[20000+i] == ypred[i]:\n",
    "            accuracy += 1\n",
    "    accuracy /= 5000\n",
    "    print (accuracy)"
   ]
  },
  {
   "cell_type": "code",
   "execution_count": 31,
   "metadata": {
    "collapsed": false
   },
   "outputs": [
    {
     "name": "stdout",
     "output_type": "stream",
     "text": [
      "Creating the bag of words model!\n",
      "\n",
      "Training the random forest classifier!\n",
      "\n",
      "0.8322\n"
     ]
    }
   ],
   "source": [
    "# Predictions on the first dataset: review_clean_original:\n",
    "predict_sentiment(review_clean_original)"
   ]
  },
  {
   "cell_type": "code",
   "execution_count": 32,
   "metadata": {
    "collapsed": false
   },
   "outputs": [
    {
     "name": "stdout",
     "output_type": "stream",
     "text": [
      "Creating the bag of words model!\n",
      "\n",
      "Training the random forest classifier!\n",
      "\n",
      "0.832\n"
     ]
    }
   ],
   "source": [
    "# Predictions on the second dataset, that used Porter Stemmer\n",
    "predict_sentiment(review_clean_ps)"
   ]
  },
  {
   "cell_type": "code",
   "execution_count": 33,
   "metadata": {
    "collapsed": false
   },
   "outputs": [
    {
     "name": "stdout",
     "output_type": "stream",
     "text": [
      "Creating the bag of words model!\n",
      "\n",
      "Training the random forest classifier!\n",
      "\n",
      "0.8318\n"
     ]
    }
   ],
   "source": [
    "# Predictions on the third dataset, that used word net lemmatizer\n",
    "predict_sentiment(review_clean_wnl)"
   ]
  },
  {
   "cell_type": "code",
   "execution_count": null,
   "metadata": {
    "collapsed": true
   },
   "outputs": [],
   "source": []
  },
  {
   "cell_type": "markdown",
   "metadata": {
    "deletable": true,
    "editable": true
   },
   "source": [
    "# Extra Credit (worth 1p)\n",
    "\n",
    "* **Question:** Preprocess the reviews in any way you find suitable and build your own ML model that can predict the sentiment of movie reviews. Credit will be given if you can obtain a prediction accuracy of over 90%, when predicting the sentiments of the validation set (the last 5000 reviews). Train your model on the first 20000 reviews (with their sentiment as the target variable)."
   ]
  },
  {
   "cell_type": "code",
   "execution_count": null,
   "metadata": {
    "collapsed": true,
    "deletable": true,
    "editable": true
   },
   "outputs": [],
   "source": [
    "## Input Answer ##"
   ]
  }
 ],
 "metadata": {
  "anaconda-cloud": {},
  "kernelspec": {
   "display_name": "Python [default]",
   "language": "python",
   "name": "python3"
  },
  "language_info": {
   "codemirror_mode": {
    "name": "ipython",
    "version": 3
   },
   "file_extension": ".py",
   "mimetype": "text/x-python",
   "name": "python",
   "nbconvert_exporter": "python",
   "pygments_lexer": "ipython3",
   "version": "3.5.2"
  }
 },
 "nbformat": 4,
 "nbformat_minor": 2
}
